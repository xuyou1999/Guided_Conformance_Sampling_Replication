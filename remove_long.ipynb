{
 "cells": [
  {
   "cell_type": "code",
   "execution_count": 10,
   "metadata": {},
   "outputs": [],
   "source": [
    "import pm4py\n",
    "from pm4py.objects.log.importer.xes import importer as xes_importer\n",
    "from pm4py.objects.log.exporter.xes import exporter as xes_exporter\n",
    "from pm4py.objects.log.obj import EventLog"
   ]
  },
  {
   "cell_type": "code",
   "execution_count": 2,
   "metadata": {},
   "outputs": [
    {
     "name": "stderr",
     "output_type": "stream",
     "text": [
      "/Users/xuyou/opt/anaconda3/lib/python3.9/site-packages/pm4py/util/dt_parsing/parser.py:77: UserWarning: ISO8601 strings are not fully supported with strpfromiso for Python versions below 3.11\n",
      "  warnings.warn(\n"
     ]
    },
    {
     "data": {
      "application/vnd.jupyter.widget-view+json": {
       "model_id": "3174a37289d94428b2e13d5858b45505",
       "version_major": 2,
       "version_minor": 0
      },
      "text/plain": [
       "parsing log, completed traces ::   0%|          | 0/43809 [00:00<?, ?it/s]"
      ]
     },
     "metadata": {},
     "output_type": "display_data"
    }
   ],
   "source": [
    "log_path = \"/logs/BPI_Challenge_2018.xes\"\n",
    "log = xes_importer.apply(log_path)"
   ]
  },
  {
   "cell_type": "code",
   "execution_count": 3,
   "metadata": {},
   "outputs": [
    {
     "data": {
      "text/plain": [
       "pm4py.objects.log.obj.EventLog"
      ]
     },
     "execution_count": 3,
     "metadata": {},
     "output_type": "execute_result"
    }
   ],
   "source": [
    "type(log)"
   ]
  },
  {
   "cell_type": "code",
   "execution_count": 9,
   "metadata": {},
   "outputs": [
    {
     "name": "stdout",
     "output_type": "stream",
     "text": [
      "{'Organizational': {'prefix': 'org', 'uri': 'http://www.xes-standard.org/org.xesext'}, 'MetaData_Time': {'prefix': 'meta_time', 'uri': 'http://www.xes-standard.org/meta_time.xesext'}, 'Time': {'prefix': 'time', 'uri': 'http://www.xes-standard.org/time.xesext'}, 'MetaData_3TU': {'prefix': 'meta_3TU', 'uri': 'http://www.xes-standard.org/meta_3TU.xesext'}, 'Lifecycle': {'prefix': 'lifecycle', 'uri': 'http://www.xes-standard.org/lifecycle.xesext'}, 'Concept': {'prefix': 'concept', 'uri': 'http://www.xes-standard.org/concept.xesext'}}\n"
     ]
    }
   ],
   "source": [
    "print(log.extensions)"
   ]
  },
  {
   "cell_type": "code",
   "execution_count": 11,
   "metadata": {},
   "outputs": [
    {
     "name": "stdout",
     "output_type": "stream",
     "text": [
      "Sorted lengths\n",
      "Removed 2227 traces\n"
     ]
    }
   ],
   "source": [
    "trace_lengths = [len(trace) for trace in log]\n",
    "\n",
    "# Determine the threshold length for the longest 5%\n",
    "sorted_lengths = sorted(trace_lengths, reverse=True)\n",
    "print(\"Sorted lengths\")\n",
    "threshold_index = int(0.05 * len(sorted_lengths))\n",
    "threshold_length = sorted_lengths[threshold_index]\n",
    "\n",
    "# Filter out traces with length greater than or equal to the threshold\n",
    "filtered_traces = [trace for trace, length in zip(log, trace_lengths) if length < threshold_length]\n",
    "modified_log= EventLog(filtered_traces, attributes=log.attributes, classifiers=log.classifiers, omni_present=log.omni_present, extensions=log.extensions)\n",
    "\n",
    "print(f\"Removed {len(log) - len(modified_log)} traces\")"
   ]
  },
  {
   "cell_type": "code",
   "execution_count": 12,
   "metadata": {},
   "outputs": [
    {
     "name": "stdout",
     "output_type": "stream",
     "text": [
      "{'attributes': {'young farmer': False, 'selected_random': False, 'penalty_AJLP': False, 'application': '8b99873a6136cfa6', 'penalty_amount0': 0.0, 'program-id': '215', 'penalty_BGKV': False, 'penalty_AUVP': False, 'applicant': 'b3b1bafcf8a5c359', 'risk_factor': 1.0, 'small farmer': True, 'penalty_BGP': False, 'department': 'e7', 'penalty_C16': False, 'penalty_BGK': False, 'penalty_AVUVP': False, 'penalty_CC': False, 'penalty_AVJLP': False, 'penalty_C9': False, 'cross_compliance': 0.0, 'rejected': False, 'greening': True, 'penalty_C4': False, 'penalty_AVGP': False, 'penalty_ABP': False, 'penalty_B6': False, 'penalty_B4': False, 'penalty_B5': False, 'penalty_AVBP': False, 'penalty_B2': False, 'selected_risk': False, 'penalty_B3': False, 'area': 2.6994, 'selected_manually': False, 'penalty_AGP': False, 'penalty_B16': False, 'penalty_GP1': False, 'basic payment': True, 'penalty_B5F': False, 'penalty_V5': False, 'payment_actual0': 960.35, 'identity:id': 'B15FB890-574E-4117-B66A-BDFBC4FCAA6E', 'amount_applied0': 960.35, 'redistribution': True, 'penalty_JLP6': False, 'penalty_JLP7': False, 'year': '2015', 'penalty_JLP5': False, 'penalty_JLP2': False, 'penalty_JLP3': False, 'number_parcels': 3, 'penalty_JLP1': False, 'concept:name': '8b99873a6136cfa6'}, 'events': [{'success': True, 'org:resource': '0;n/a', 'docid_uuid': 'CD3DC291-76C6-420A-B3F1-7C808970915B', 'doctype': 'Payment application', 'subprocess': 'Application', 'docid': '-18008611495569447', 'activity': 'mail income', 'note': 'none', 'eventid': 'null', 'identity:id': '510B5333-731A-40FD-B7D6-FC149E50E961', 'concept:name': 'mail income', 'lifecycle:transition': 'complete', 'time:timestamp': datetime.datetime(2015, 5, 8, 0, 0, tzinfo=datetime.timezone(datetime.timedelta(seconds=7200)))}, '..', {'success': True, 'org:resource': 'DP-Z', 'docid_uuid': 'CD3DC291-76C6-420A-B3F1-7C808970915B', 'doctype': 'Payment application', 'subprocess': 'Application', 'docid': '-18008611495569447', 'activity': 'finish payment', 'note': 'automatic during payment', 'eventid': '-18008575555605423', 'identity:id': '31A6769B-F2C5-430D-BEC7-F5113C78D415', 'concept:name': 'finish payment', 'lifecycle:transition': 'complete', 'time:timestamp': datetime.datetime(2016, 2, 18, 7, 56, 22, 774000, tzinfo=datetime.timezone(datetime.timedelta(seconds=3600)))}]}\n"
     ]
    }
   ],
   "source": [
    "print(modified_log[0])"
   ]
  },
  {
   "cell_type": "code",
   "execution_count": 13,
   "metadata": {},
   "outputs": [
    {
     "data": {
      "application/vnd.jupyter.widget-view+json": {
       "model_id": "2784fe115b7240c1af90d141cbe3d39f",
       "version_major": 2,
       "version_minor": 0
      },
      "text/plain": [
       "exporting log, completed traces ::   0%|          | 0/41582 [00:00<?, ?it/s]"
      ]
     },
     "metadata": {},
     "output_type": "display_data"
    }
   ],
   "source": [
    "output_path = \"BPI_Challenge_2018_modified.xes\"\n",
    "xes_exporter.apply(modified_log, output_path)"
   ]
  }
 ],
 "metadata": {
  "kernelspec": {
   "display_name": "base",
   "language": "python",
   "name": "python3"
  },
  "language_info": {
   "codemirror_mode": {
    "name": "ipython",
    "version": 3
   },
   "file_extension": ".py",
   "mimetype": "text/x-python",
   "name": "python",
   "nbconvert_exporter": "python",
   "pygments_lexer": "ipython3",
   "version": "3.9.18"
  }
 },
 "nbformat": 4,
 "nbformat_minor": 2
}
